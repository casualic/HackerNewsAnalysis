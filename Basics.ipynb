{
 "cells": [
  {
   "cell_type": "markdown",
   "metadata": {
    "collapsed": true
   },
   "source": [
    "In this project we will be analyzing the conent of Hackernews posts, and analyze their popularity. \n",
    "\n",
    "We will be using the following dataset:\n",
    "https://www.kaggle.com/hacker-news/hacker-news-posts\n",
    "\n",
    "It is a filtered dataset that takes a random sample of the submissions to Hackernews that have any activity on the submission (i.e they have a caomment), and then tandomly sampled. \n",
    "\n",
    "The headers are as follows:\n",
    "\n",
    "id: The unique identifier from Hacker News for the post\n",
    "title: The title of the post\n",
    "url: The URL that the posts links to, if it the post has a URL\n",
    "num_points: The number of points the post acquired, calculated as the total number of upvotes minus the total number of downvotes\n",
    "num_comments: The number of comments that were made on the post\n",
    "author: The username of the person who submitted the post\n",
    "created_at: The date and time at which the post was submitted\n",
    "\n"
   ]
  },
  {
   "cell_type": "code",
   "execution_count": 1,
   "metadata": {
    "collapsed": false
   },
   "outputs": [
    {
     "name": "stdout",
     "output_type": "stream",
     "text": [
      "[['id', 'title', 'url', 'num_points', 'num_comments', 'author', 'created_at'], ['12224879', 'Interactive Dynamic Video', 'http://www.interactivedynamicvideo.com/', '386', '52', 'ne0phyte', '8/4/2016 11:52'], ['10975351', 'How to Use Open Source and Shut the Fuck Up at the Same Time', 'http://hueniverse.com/2016/01/26/how-to-use-open-source-and-shut-the-fuck-up-at-the-same-time/', '39', '10', 'josep2', '1/26/2016 19:30'], ['11964716', \"Florida DJs May Face Felony for April Fools' Water Joke\", 'http://www.thewire.com/entertainment/2013/04/florida-djs-april-fools-water-joke/63798/', '2', '1', 'vezycash', '6/23/2016 22:20'], ['11919867', 'Technology ventures: From Idea to Enterprise', 'https://www.amazon.com/Technology-Ventures-Enterprise-Thomas-Byers/dp/0073523429', '3', '1', 'hswarna', '6/17/2016 0:01']]\n"
     ]
    }
   ],
   "source": [
    "from csv import reader\n",
    "\n",
    "opened_file = open('hacker_news.csv')\n",
    "read_file = reader(opened_file)\n",
    "hn = list(read_file)\n",
    "\n",
    "print(hn[:5])\n"
   ]
  },
  {
   "cell_type": "markdown",
   "metadata": {},
   "source": [
    "We Will now clear up the headers:\n"
   ]
  },
  {
   "cell_type": "code",
   "execution_count": 2,
   "metadata": {
    "collapsed": false
   },
   "outputs": [
    {
     "name": "stdout",
     "output_type": "stream",
     "text": [
      "['id', 'title', 'url', 'num_points', 'num_comments', 'author', 'created_at']\n",
      "\n",
      "\n",
      "[['12224879', 'Interactive Dynamic Video', 'http://www.interactivedynamicvideo.com/', '386', '52', 'ne0phyte', '8/4/2016 11:52'], ['10975351', 'How to Use Open Source and Shut the Fuck Up at the Same Time', 'http://hueniverse.com/2016/01/26/how-to-use-open-source-and-shut-the-fuck-up-at-the-same-time/', '39', '10', 'josep2', '1/26/2016 19:30'], ['11964716', \"Florida DJs May Face Felony for April Fools' Water Joke\", 'http://www.thewire.com/entertainment/2013/04/florida-djs-april-fools-water-joke/63798/', '2', '1', 'vezycash', '6/23/2016 22:20'], ['11919867', 'Technology ventures: From Idea to Enterprise', 'https://www.amazon.com/Technology-Ventures-Enterprise-Thomas-Byers/dp/0073523429', '3', '1', 'hswarna', '6/17/2016 0:01']]\n"
     ]
    }
   ],
   "source": [
    "headers = hn[0]\n",
    "hn = hn[1:]\n",
    "\n",
    "print(headers)\n",
    "\n",
    "print('\\n')\n",
    "#printing rows to verify\n",
    "\n",
    "print(hn[:4])\n"
   ]
  },
  {
   "cell_type": "markdown",
   "metadata": {
    "collapsed": true
   },
   "source": [
    "We will now be looking to filter by the category of posts which have ask HN or show HN , to investigate how well these do on average. These are 2 types of community posts, so we will investiagte if community posts tend to do better than other news articles and submissions. \n",
    "\n",
    "Luckily, when it is one of those types of posts, Hackernews starts the tile of the questions with Ask HN, and so we can simply extrapolate the entires which start with that particular string of 'Ask HN'.\n",
    "\n",
    "To do this we will create a loop to extrapolate a list with the requied titlkes. \n"
   ]
  },
  {
   "cell_type": "code",
   "execution_count": 9,
   "metadata": {
    "collapsed": false
   },
   "outputs": [
    {
     "name": "stdout",
     "output_type": "stream",
     "text": [
      "ask_posts length is 1744\n",
      "show_posts length is 1162\n",
      "other_posts length is 17194\n",
      "proportion of community posts is 0.1445771144278607\n"
     ]
    }
   ],
   "source": [
    "# initiate empty lists to operate on in the loop for the output\n",
    "\n",
    "ask_posts = []\n",
    "show_posts = []\n",
    "other_posts = []\n",
    "\n",
    "for row in hn:\n",
    "    title = row[1]\n",
    "    if title.lower().startswith('ask hn') == True:\n",
    "        ask_posts.append(row)\n",
    "    elif title.lower().startswith('show hn') == True:\n",
    "        show_posts.append(row)\n",
    "    else:\n",
    "        other_posts.append(row)\n",
    "        \n",
    "print('ask_posts length is ' + str(len(ask_posts)))        \n",
    "print('show_posts length is ' + str(len(show_posts)))        \n",
    "print('other_posts length is ' + str(len(other_posts)))\n",
    "\n",
    "print('proportion of community posts is ' + str((len(ask_posts) + len(show_posts)) / len(hn)))\n",
    "\n"
   ]
  },
  {
   "cell_type": "markdown",
   "metadata": {},
   "source": [
    "Now that we have isolated the types of posts we will see check their engagement on the comment basis:\n",
    "\n",
    "'num_comments' is column with index 4\n",
    "\n",
    "Firstly we will investigate the 'ask' posts.\n"
   ]
  },
  {
   "cell_type": "code",
   "execution_count": 21,
   "metadata": {
    "collapsed": false
   },
   "outputs": [
    {
     "name": "stdout",
     "output_type": "stream",
     "text": [
      "avg ask comments: 14.038417431192661\n",
      "avg show comments: 10.31669535283993\n"
     ]
    }
   ],
   "source": [
    "# set a ask comments list, to track total number of asks.\n",
    "# then find avg comments on an ask post\n",
    "\n",
    "total_ask_comments = 0\n",
    "\n",
    "for row in ask_posts:\n",
    "    num_comments = row[4]\n",
    "    num_comments = int(num_comments)\n",
    "    total_ask_comments += num_comments\n",
    "\n",
    "avg_ask_comments = total_ask_comments / len(ask_posts)\n",
    "\n",
    "print('avg ask comments: ' + str(avg_ask_comments))\n",
    "\n",
    "# set a ask comments list, to track total number of asks.\n",
    "# then find avg comments on an ask post\n",
    "\n",
    "total_show_comments = 0\n",
    "\n",
    "for row in show_posts:\n",
    "    num_comments = row[4]\n",
    "    num_comments = int(num_comments)\n",
    "    total_show_comments += num_comments\n",
    "\n",
    "avg_show_comments = total_show_comments / len(show_posts)\n",
    "\n",
    "print('avg show comments: ' + str(avg_show_comments))\n"
   ]
  },
  {
   "cell_type": "markdown",
   "metadata": {},
   "source": [
    "From what we can see above, the average Ask comments receive around 14 comments on avareage, vs show comments of 10.3. \n",
    "\n",
    "This is somewhat expects, as the ask HN posts, directly ask for community engagement, and such prompting more comments to be created. \n",
    "\n"
   ]
  },
  {
   "cell_type": "markdown",
   "metadata": {},
   "source": [
    "Based on this we wil focus our analysis of the posts of these type, as they seem to acheive good community engagement. \n",
    "\n",
    "We will now try to see if the popularity of a post, is related to the time posted. \n",
    "\n",
    "To do this we will calculate:\n",
    "1. Amount of ask posts created in each hour of the dat, alongside the number of comments received\n",
    "2. Average number of comments the ask posts receive by the hour created\n",
    "\n",
    "We also note that the the time in the database is stored as a string, so we will want to convert these in to objects, so taht we can manipulate them more easily. \n",
    "\n",
    "For Reference, a sample elemt looks like the following:\n",
    "['12224879', 'Interactive Dynamic Video', 'http://www.interactivedynamicvideo.com/', '386', '52', 'ne0phyte', '8/4/2016 11:52']\n",
    "\n",
    "\n",
    "\n"
   ]
  },
  {
   "cell_type": "code",
   "execution_count": 56,
   "metadata": {
    "collapsed": false
   },
   "outputs": [
    {
     "ename": "SyntaxError",
     "evalue": "invalid syntax (<ipython-input-56-5f80652c6fd6>, line 27)",
     "output_type": "error",
     "traceback": [
      "\u001b[1;36m  File \u001b[1;32m\"<ipython-input-56-5f80652c6fd6>\"\u001b[1;36m, line \u001b[1;32m27\u001b[0m\n\u001b[1;33m    target_hour = hour_object.strftime(%H)\u001b[0m\n\u001b[1;37m                                       ^\u001b[0m\n\u001b[1;31mSyntaxError\u001b[0m\u001b[1;31m:\u001b[0m invalid syntax\n"
     ]
    }
   ],
   "source": [
    "from datetime import datetime\n",
    "\n",
    "result_list = []\n",
    "\n",
    "\n",
    "\n",
    "for row in ask_posts:\n",
    "    created_at = row[6]\n",
    "    comments = row[4]\n",
    "    result_list.append([created_at, comments])\n",
    "\n",
    "# Test: check if loop produces desired data     \n",
    "print(result_list[:5])\n",
    "\n",
    "#We will now intialize dicitionaries, to track the number of posts in an hour\n",
    "#We will also count comments in a specific hour. \n",
    "# we will then use the two to analyze Comments per posts in a specific hour to gage popularity\n",
    "\n",
    "counts_by_hour = {}\n",
    "comments_by_hour = {}\n",
    "\n",
    "\n",
    "for row in result_list:\n",
    "    hour = row[0]\n",
    "    hour_object = datetime.strptime(hour, '%m/%d/%Y %H:%M')\n",
    "#note : the used implementation of datetime does not require differentaion between padded and unpadded numbers\n",
    "    target_hour = hour_object.strftime(%H)\n",
    "    print(target_hour)\n",
    "    if target_hour not in counts_by_hour:\n",
    "        counts_by_hour[target_hour] = 1\n",
    "        comments_by_hour[target_hour] = row[1]\n",
    "    else:\n",
    "        counts_by_hour[target_hour] += 1\n",
    "        comments_by_hour[target_hour] += row[1]\n",
    "\n",
    "\n"
   ]
  }
 ],
 "metadata": {
  "kernelspec": {
   "display_name": "Python 3",
   "language": "python",
   "name": "python3"
  },
  "language_info": {
   "codemirror_mode": {
    "name": "ipython",
    "version": 3
   },
   "file_extension": ".py",
   "mimetype": "text/x-python",
   "name": "python",
   "nbconvert_exporter": "python",
   "pygments_lexer": "ipython3",
   "version": "3.4.3"
  }
 },
 "nbformat": 4,
 "nbformat_minor": 2
}
